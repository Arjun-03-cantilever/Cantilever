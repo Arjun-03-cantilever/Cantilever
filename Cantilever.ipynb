{
  "nbformat": 4,
  "nbformat_minor": 0,
  "metadata": {
    "colab": {
      "provenance": [],
      "authorship_tag": "ABX9TyMlevNHLyaWURFd3x+6hVJR",
      "include_colab_link": true
    },
    "kernelspec": {
      "name": "python3",
      "display_name": "Python 3"
    },
    "language_info": {
      "name": "python"
    }
  },
  "cells": [
    {
      "cell_type": "markdown",
      "metadata": {
        "id": "view-in-github",
        "colab_type": "text"
      },
      "source": [
        "<a href=\"https://colab.research.google.com/github/Arjun-03-cantilever/Cantilever/blob/main/Cantilever.ipynb\" target=\"_parent\"><img src=\"https://colab.research.google.com/assets/colab-badge.svg\" alt=\"Open In Colab\"/></a>"
      ]
    },
    {
      "cell_type": "code",
      "source": [
        "import PyPDF2\n",
        "\n",
        "pdf_file = open('/content/data_science.pdf', 'rb')\n",
        "pdf_reader = PyPDF2.PdfReader(pdf_file)\n",
        "extracted_text = \"\"\n",
        "pdf_file = open('/content/data_science.pdf', 'rb')\n",
        "pdf_reader = PyPDF2.PdfReader(pdf_file)\n",
        "extracted_text = \"\"\n",
        "\n",
        "for page_num in range(len(pdf_reader.pages)):\n",
        "    page = pdf_reader.pages[page_num]\n",
        "    extracted_text += page.extract_text()\n",
        "\n",
        "pdf_file.close()\n",
        "\n",
        "print(extracted_text[:500])\n",
        "import PyPDF2\n",
        "\n",
        "pdf_file = open('/content/data_science.pdf', 'rb')\n",
        "pdf_reader = PyPDF2.PdfReader(pdf_file)\n",
        "extracted_text = \"\"\n",
        "\n",
        "for page_num in range(len(pdf_reader.pages)):\n",
        "    page = pdf_reader.pages[page_num]\n",
        "    extracted_text += page.extract_text()\n",
        "\n",
        "pdf_file.close()\n",
        "\n",
        "print(extracted_text[:500])"
      ],
      "metadata": {
        "colab": {
          "base_uri": "https://localhost:8080/"
        },
        "id": "mExEpFRTbuZH",
        "outputId": "14f0a6d3-858d-4eaf-aa7b-6a51922b944d"
      },
      "execution_count": 6,
      "outputs": [
        {
          "output_type": "stream",
          "name": "stdout",
          "text": [
            "DATA SCIENCE\n",
            "w w w . c a n t i l e v e r . i nDEVELOPM ENTCANTILEV ER\n",
            "c a n t i l e v e r i n f o @ g m a i l . c o mWe Are a Cutting edge AI platform technology\n",
            "service provider that helps the businesses to grow\n",
            "easily and Faster. We provide software services\n",
            "which helps businesses to automate their task\n",
            "easily from managing all daily task of company at\n",
            "one place so that businesses can focus more on\n",
            "growing.Who we Are ?INSTRUCTIONS  \n",
            "FOR THE\n",
            "INTERNSHIP\n",
            "Please follow these steps for successful\n",
            "c\n",
            "DATA SCIENCE\n",
            "w w w . c a n t i l e v e r . i nDEVELOPM ENTCANTILEV ER\n",
            "c a n t i l e v e r i n f o @ g m a i l . c o mWe Are a Cutting edge AI platform technology\n",
            "service provider that helps the businesses to grow\n",
            "easily and Faster. We provide software services\n",
            "which helps businesses to automate their task\n",
            "easily from managing all daily task of company at\n",
            "one place so that businesses can focus more on\n",
            "growing.Who we Are ?INSTRUCTIONS  \n",
            "FOR THE\n",
            "INTERNSHIP\n",
            "Please follow these steps for successful\n",
            "c\n"
          ]
        }
      ]
    },
    {
      "cell_type": "code",
      "source": [],
      "metadata": {
        "id": "ddoAB5kAeC54"
      },
      "execution_count": null,
      "outputs": []
    }
  ]
}